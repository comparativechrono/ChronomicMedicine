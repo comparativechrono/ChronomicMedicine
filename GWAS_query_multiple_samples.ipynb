{
  "nbformat": 4,
  "nbformat_minor": 0,
  "metadata": {
    "colab": {
      "provenance": [],
      "authorship_tag": "ABX9TyNrzV7inXXkcew+eCdfFdQu",
      "include_colab_link": true
    },
    "kernelspec": {
      "name": "python3",
      "display_name": "Python 3"
    },
    "language_info": {
      "name": "python"
    }
  },
  "cells": [
    {
      "cell_type": "markdown",
      "metadata": {
        "id": "view-in-github",
        "colab_type": "text"
      },
      "source": [
        "<a href=\"https://colab.research.google.com/github/comparativechrono/ChronomicMedicine/blob/main/GWAS_query_multiple_samples.ipynb\" target=\"_parent\"><img src=\"https://colab.research.google.com/assets/colab-badge.svg\" alt=\"Open In Colab\"/></a>"
      ]
    },
    {
      "cell_type": "markdown",
      "source": [
        "# Querying GWAS catalogue with multiple samples"
      ],
      "metadata": {
        "id": "9Hjd9SCvFWmU"
      }
    },
    {
      "cell_type": "markdown",
      "source": [
        "## Step 1. Data retrieval and pre-processing"
      ],
      "metadata": {
        "id": "HEOluZPUFrqc"
      }
    },
    {
      "cell_type": "markdown",
      "source": [
        "Obtain GWAS catalogue data from EBI"
      ],
      "metadata": {
        "id": "vtDMC2JpFdqd"
      }
    },
    {
      "cell_type": "code",
      "execution_count": 1,
      "metadata": {
        "id": "W0WLwhXsAGf1",
        "colab": {
          "base_uri": "https://localhost:8080/"
        },
        "outputId": "517abcac-d949-43d4-c395-d7b83e137d60"
      },
      "outputs": [
        {
          "output_type": "stream",
          "name": "stdout",
          "text": [
            "--2023-02-23 21:30:22--  https://www.ebi.ac.uk/gwas/api/search/downloads/alternative\n",
            "Resolving www.ebi.ac.uk (www.ebi.ac.uk)... 193.62.193.80\n",
            "Connecting to www.ebi.ac.uk (www.ebi.ac.uk)|193.62.193.80|:443... connected.\n",
            "HTTP request sent, awaiting response... 200 OK\n",
            "Length: unspecified [text/tsv]\n",
            "Saving to: ‘gwas.txt’\n",
            "\n",
            "gwas.txt                [       <=>          ] 293.92M  7.97MB/s    in 57s     \n",
            "\n",
            "2023-02-23 21:31:19 (5.15 MB/s) - ‘gwas.txt’ saved [308199696]\n",
            "\n"
          ]
        }
      ],
      "source": [
        "! wget -O gwas.txt https://www.ebi.ac.uk/gwas/api/search/downloads/alternative"
      ]
    },
    {
      "cell_type": "code",
      "source": [
        "! head gwas.txt"
      ],
      "metadata": {
        "id": "JxH_Utq8Ah-B",
        "colab": {
          "base_uri": "https://localhost:8080/"
        },
        "outputId": "63f85c21-bb21-4b79-f978-0f09fc92051e"
      },
      "execution_count": 2,
      "outputs": [
        {
          "output_type": "stream",
          "name": "stdout",
          "text": [
            "DATE ADDED TO CATALOG\tPUBMEDID\tFIRST AUTHOR\tDATE\tJOURNAL\tLINK\tSTUDY\tDISEASE/TRAIT\tINITIAL SAMPLE SIZE\tREPLICATION SAMPLE SIZE\tREGION\tCHR_ID\tCHR_POS\tREPORTED GENE(S)\tMAPPED_GENE\tUPSTREAM_GENE_ID\tDOWNSTREAM_GENE_ID\tSNP_GENE_IDS\tUPSTREAM_GENE_DISTANCE\tDOWNSTREAM_GENE_DISTANCE\tSTRONGEST SNP-RISK ALLELE\tSNPS\tMERGED\tSNP_ID_CURRENT\tCONTEXT\tINTERGENIC\tRISK ALLELE FREQUENCY\tP-VALUE\tPVALUE_MLOG\tP-VALUE (TEXT)\tOR or BETA\t95% CI (TEXT)\tPLATFORM [SNPS PASSING QC]\tCNV\tMAPPED_TRAIT\tMAPPED_TRAIT_URI\tSTUDY ACCESSION\tGENOTYPING TECHNOLOGY\r\n",
            "2017-08-22\t28448500\tGraff M\t2017-04-27\tPLoS Genet\twww.ncbi.nlm.nih.gov/pubmed/28448500\tGenome-wide physical activity interactions in adiposity - A meta-analysis of 200,452 adults.\tWaist-to-hip ratio adjusted for BMI in active individuals\t1,957 African American women, 1,421 Filipino ancestry women, 305 Indian ancestry women, 65,539 European ancestry women, 1,206 African American men, 2,029 Indian ancestry men, 41,673 European ancestry men, 4,819 European ancestry individuals\t4,807 African American women, 12,347 European ancestry women, 265 African American men, 14,540 European ancestry men\t3q22.1\t3\t129615390\tPLXND1\tPLXND1 - TMCC1\tENSG00000004399\tENSG00000172765\t\t8714\t32402\trs10804591-A\trs10804591\t0\t10804591\tintergenic_variant\t1\t0.7927\t3E-6\t5.522878745280337\t(EA)\t0.026\t[0.015-0.037] unit increase\tAffymetrix, Illumina, Perlegen [~ 2500000] (imputed)\tN\tBMI-adjusted waist-hip ratio\thttp://www.ebi.ac.uk/efo/EFO_0007788\tGCST004578\tGenome-wide genotyping array\r\n",
            "2017-08-22\t28448500\tGraff M\t2017-04-27\tPLoS Genet\twww.ncbi.nlm.nih.gov/pubmed/28448500\tGenome-wide physical activity interactions in adiposity - A meta-analysis of 200,452 adults.\tWaist-to-hip ratio adjusted for BMI in active individuals\t1,957 African American women, 1,421 Filipino ancestry women, 305 Indian ancestry women, 65,539 European ancestry women, 1,206 African American men, 2,029 Indian ancestry men, 41,673 European ancestry men, 4,819 European ancestry individuals\t4,807 African American women, 12,347 European ancestry women, 265 African American men, 14,540 European ancestry men\t3q25.31\t3\t157079820\tLEKR1\tLEKR1 - LINC00880\tENSG00000197980\tENSG00000243629\t\t33691\t1847\trs17451107-T\trs17451107\t0\t17451107\tregulatory_region_variant\t1\t0.6096\t5E-10\t9.301029995663981\t(EA)\t0.0298\t[0.02-0.039] unit increase\tAffymetrix, Illumina, Perlegen [~ 2500000] (imputed)\tN\tBMI-adjusted waist-hip ratio\thttp://www.ebi.ac.uk/efo/EFO_0007788\tGCST004578\tGenome-wide genotyping array\r\n",
            "2017-08-22\t28448500\tGraff M\t2017-04-27\tPLoS Genet\twww.ncbi.nlm.nih.gov/pubmed/28448500\tGenome-wide physical activity interactions in adiposity - A meta-analysis of 200,452 adults.\tWaist-to-hip ratio adjusted for BMI in active individuals\t1,957 African American women, 1,421 Filipino ancestry women, 305 Indian ancestry women, 65,539 European ancestry women, 1,206 African American men, 2,029 Indian ancestry men, 41,673 European ancestry men, 4,819 European ancestry individuals\t4,807 African American women, 12,347 European ancestry women, 265 African American men, 14,540 European ancestry men\t5q11.2\t5\t56565039\tMAP3K1\tC5orf67\t\t\tENSG00000225940\t\t\trs3936510-T\trs3936510\t0\t3936510\tintron_variant\t0\t0.1875\t5E-7\t6.301029995663981\t(EA)\t0.0295\t[0.018-0.041] unit increase\tAffymetrix, Illumina, Perlegen [~ 2500000] (imputed)\tN\tBMI-adjusted waist-hip ratio\thttp://www.ebi.ac.uk/efo/EFO_0007788\tGCST004578\tGenome-wide genotyping array\r\n",
            "2017-08-22\t28448500\tGraff M\t2017-04-27\tPLoS Genet\twww.ncbi.nlm.nih.gov/pubmed/28448500\tGenome-wide physical activity interactions in adiposity - A meta-analysis of 200,452 adults.\tWaist-to-hip ratio adjusted for BMI in active individuals\t1,957 African American women, 1,421 Filipino ancestry women, 305 Indian ancestry women, 65,539 European ancestry women, 1,206 African American men, 2,029 Indian ancestry men, 41,673 European ancestry men, 4,819 European ancestry individuals\t4,807 African American women, 12,347 European ancestry women, 265 African American men, 14,540 European ancestry men\t6p25.1\t6\t6736698\tLY86\tLY86 - BTF3P7\tENSG00000112799\tENSG00000219986\t\t81715\t58217\trs912057-G\trs912057\t0\t912057\tintron_variant\t1\t0.6256999999999999\t3E-11\t10.522878745280337\t(EA)\t0.0308\t[0.022-0.04] unit increase\tAffymetrix, Illumina, Perlegen [~ 2500000] (imputed)\tN\tBMI-adjusted waist-hip ratio\thttp://www.ebi.ac.uk/efo/EFO_0007788\tGCST004578\tGenome-wide genotyping array\r\n",
            "2017-08-22\t28448500\tGraff M\t2017-04-27\tPLoS Genet\twww.ncbi.nlm.nih.gov/pubmed/28448500\tGenome-wide physical activity interactions in adiposity - A meta-analysis of 200,452 adults.\tWaist-to-hip ratio adjusted for BMI in active individuals\t1,957 African American women, 1,421 Filipino ancestry women, 305 Indian ancestry women, 65,539 European ancestry women, 1,206 African American men, 2,029 Indian ancestry men, 41,673 European ancestry men, 4,819 European ancestry individuals\t4,807 African American women, 12,347 European ancestry women, 265 African American men, 14,540 European ancestry men\t6p21.32\t6\t32255481\tBTNL2\tTSBP1-AS1, TSBP1-AS1, TSBP1-AS1, TSBP1-AS1, TSBP1-AS1, TSBP1-AS1, TSBP1-AS1\t\t\tENSG00000230602, ENSG00000228738, ENSG00000229903, ENSG00000225834, ENSG00000226228, ENSG00000224507, ENSG00000225914\t\t\trs3130320-C\trs3130320\t0\t3130320\tintron_variant\t0\t0.6281\t6E-9\t8.221848749616356\t(EA)\t0.0271\t[0.018-0.036] unit increase\tAffymetrix, Illumina, Perlegen [~ 2500000] (imputed)\tN\tBMI-adjusted waist-hip ratio\thttp://www.ebi.ac.uk/efo/EFO_0007788\tGCST004578\tGenome-wide genotyping array\r\n",
            "2017-08-22\t28448500\tGraff M\t2017-04-27\tPLoS Genet\twww.ncbi.nlm.nih.gov/pubmed/28448500\tGenome-wide physical activity interactions in adiposity - A meta-analysis of 200,452 adults.\tWaist-to-hip ratio adjusted for BMI in active individuals\t1,957 African American women, 1,421 Filipino ancestry women, 305 Indian ancestry women, 65,539 European ancestry women, 1,206 African American men, 2,029 Indian ancestry men, 41,673 European ancestry men, 4,819 European ancestry individuals\t4,807 African American women, 12,347 European ancestry women, 265 African American men, 14,540 European ancestry men\t6p21.32\t6\t32377912\tBTNL2\tTSBP1-AS1, TSBP1-AS1, TSBP1-AS1, TSBP1-AS1, TSBP1-AS1, TSBP1-AS1, TSBP1-AS1\t\t\tENSG00000230602, ENSG00000228738, ENSG00000229903, ENSG00000225834, ENSG00000226228, ENSG00000224507, ENSG00000225914\t\t\trs2894254-T\trs2894254\t0\t2894254\tintron_variant\t0\t0.8879\t6E-7\t6.221848749616356\t(EA)\t0.0363\t[0.022-0.051] unit increase\tAffymetrix, Illumina, Perlegen [~ 2500000] (imputed)\tN\tBMI-adjusted waist-hip ratio\thttp://www.ebi.ac.uk/efo/EFO_0007788\tGCST004578\tGenome-wide genotyping array\r\n",
            "2017-08-22\t28448500\tGraff M\t2017-04-27\tPLoS Genet\twww.ncbi.nlm.nih.gov/pubmed/28448500\tGenome-wide physical activity interactions in adiposity - A meta-analysis of 200,452 adults.\tWaist-to-hip ratio adjusted for BMI in active individuals\t1,957 African American women, 1,421 Filipino ancestry women, 305 Indian ancestry women, 65,539 European ancestry women, 1,206 African American men, 2,029 Indian ancestry men, 41,673 European ancestry men, 4,819 European ancestry individuals\t4,807 African American women, 12,347 European ancestry women, 265 African American men, 14,540 European ancestry men\t6p21.32\t6\t32480621\tBTNL2\tHLA-DRB9 - HLA-DRB5\tENSG00000226035\tENSG00000198502\t\t7121\t36732\trs9378213-G\trs9378213\t0\t9378213\tintergenic_variant\t1\t0.41690000000000005\t6E-7\t6.221848749616356\t(EA)\t0.0232\t[0.014-0.032] unit increase\tAffymetrix, Illumina, Perlegen [~ 2500000] (imputed)\tN\tBMI-adjusted waist-hip ratio\thttp://www.ebi.ac.uk/efo/EFO_0007788\tGCST004578\tGenome-wide genotyping array\r\n",
            "2017-08-22\t28448500\tGraff M\t2017-04-27\tPLoS Genet\twww.ncbi.nlm.nih.gov/pubmed/28448500\tGenome-wide physical activity interactions in adiposity - A meta-analysis of 200,452 adults.\tWaist-to-hip ratio adjusted for BMI in active individuals\t1,957 African American women, 1,421 Filipino ancestry women, 305 Indian ancestry women, 65,539 European ancestry women, 1,206 African American men, 2,029 Indian ancestry men, 41,673 European ancestry men, 4,819 European ancestry individuals\t4,807 African American women, 12,347 European ancestry women, 265 African American men, 14,540 European ancestry men\t6p21.1\t6\t43796814\tVEGFA\tVEGFA - LINC02537\tENSG00000112715\tENSG00000283215\t\t10327\t48064\trs1358980-T\trs1358980\t0\t1358980\tregulatory_region_variant\t1\t0.4742\t1E-18\t18.0\t(EA)\t0.0428\t[0.033-0.052] unit increase\tAffymetrix, Illumina, Perlegen [~ 2500000] (imputed)\tN\tBMI-adjusted waist-hip ratio\thttp://www.ebi.ac.uk/efo/EFO_0007788\tGCST004578\tGenome-wide genotyping array\r\n",
            "2017-08-22\t28448500\tGraff M\t2017-04-27\tPLoS Genet\twww.ncbi.nlm.nih.gov/pubmed/28448500\tGenome-wide physical activity interactions in adiposity - A meta-analysis of 200,452 adults.\tWaist-to-hip ratio adjusted for BMI in active individuals\t1,957 African American women, 1,421 Filipino ancestry women, 305 Indian ancestry women, 65,539 European ancestry women, 1,206 African American men, 2,029 Indian ancestry men, 41,673 European ancestry men, 4,819 European ancestry individuals\t4,807 African American women, 12,347 European ancestry women, 265 African American men, 14,540 European ancestry men\t6q22.33\t6\t127133993\tRSPO3\tRSPO3\t\t\tENSG00000146374\t\t\trs7766106-T\trs7766106\t0\t7766106\tintron_variant\t0\t0.4821\t3E-24\t23.522878745280337\t(EA)\t0.0458\t[0.037-0.055] unit increase\tAffymetrix, Illumina, Perlegen [~ 2500000] (imputed)\tN\tBMI-adjusted waist-hip ratio\thttp://www.ebi.ac.uk/efo/EFO_0007788\tGCST004578\tGenome-wide genotyping array\r\n"
          ]
        }
      ]
    },
    {
      "cell_type": "markdown",
      "source": [
        "## Perform analysis in R"
      ],
      "metadata": {
        "id": "1_yQayuvC8sZ"
      }
    },
    {
      "cell_type": "markdown",
      "source": [
        "Set-up R environment"
      ],
      "metadata": {
        "id": "ZcFxuoSPF4CZ"
      }
    },
    {
      "cell_type": "code",
      "source": [
        "!pip uninstall rpy2 -y\n",
        "!pip install rpy2==3.5.1"
      ],
      "metadata": {
        "id": "4DtWEHROEP5f",
        "colab": {
          "base_uri": "https://localhost:8080/"
        },
        "outputId": "290b6abe-982e-41f8-f778-3bdc8216778e"
      },
      "execution_count": 3,
      "outputs": [
        {
          "output_type": "stream",
          "name": "stdout",
          "text": [
            "Found existing installation: rpy2 3.5.1\n",
            "Uninstalling rpy2-3.5.1:\n",
            "  Successfully uninstalled rpy2-3.5.1\n",
            "Looking in indexes: https://pypi.org/simple, https://us-python.pkg.dev/colab-wheels/public/simple/\n",
            "Collecting rpy2==3.5.1\n",
            "  Using cached rpy2-3.5.1-cp38-cp38-linux_x86_64.whl\n",
            "Requirement already satisfied: pytz in /usr/local/lib/python3.8/dist-packages (from rpy2==3.5.1) (2022.7.1)\n",
            "Requirement already satisfied: tzlocal in /usr/local/lib/python3.8/dist-packages (from rpy2==3.5.1) (1.5.1)\n",
            "Requirement already satisfied: cffi>=1.10.0 in /usr/local/lib/python3.8/dist-packages (from rpy2==3.5.1) (1.15.1)\n",
            "Requirement already satisfied: jinja2 in /usr/local/lib/python3.8/dist-packages (from rpy2==3.5.1) (2.11.3)\n",
            "Requirement already satisfied: pycparser in /usr/local/lib/python3.8/dist-packages (from cffi>=1.10.0->rpy2==3.5.1) (2.21)\n",
            "Requirement already satisfied: MarkupSafe>=0.23 in /usr/local/lib/python3.8/dist-packages (from jinja2->rpy2==3.5.1) (2.0.1)\n",
            "Installing collected packages: rpy2\n",
            "Successfully installed rpy2-3.5.1\n"
          ]
        }
      ]
    },
    {
      "cell_type": "code",
      "source": [
        "%load_ext rpy2.ipython"
      ],
      "metadata": {
        "id": "G6u8nNv8C5vI"
      },
      "execution_count": 4,
      "outputs": []
    },
    {
      "cell_type": "code",
      "source": [
        "%%R\n",
        "library(tidyverse)"
      ],
      "metadata": {
        "colab": {
          "base_uri": "https://localhost:8080/"
        },
        "id": "lDQhukP3GNRV",
        "outputId": "a61e3c66-2708-4536-e926-90af2a7da106"
      },
      "execution_count": 5,
      "outputs": [
        {
          "output_type": "stream",
          "name": "stderr",
          "text": [
            "WARNING:rpy2.rinterface_lib.callbacks:R[write to console]: ── Attaching packages ─────────────────────────────────────── tidyverse 1.3.1 ──\n",
            "\n",
            "WARNING:rpy2.rinterface_lib.callbacks:R[write to console]: ✔ ggplot2 3.4.1     ✔ purrr   1.0.1\n",
            "✔ tibble  3.1.8     ✔ dplyr   1.1.0\n",
            "✔ tidyr   1.3.0     ✔ stringr 1.4.1\n",
            "✔ readr   2.1.4     ✔ forcats 1.0.0\n",
            "\n",
            "WARNING:rpy2.rinterface_lib.callbacks:R[write to console]: ── Conflicts ────────────────────────────────────────── tidyverse_conflicts() ──\n",
            "✖ dplyr::filter() masks stats::filter()\n",
            "✖ dplyr::lag()    masks stats::lag()\n",
            "\n"
          ]
        }
      ]
    },
    {
      "cell_type": "code",
      "source": [
        "%%R\n",
        "gwas <- read_tsv(\"gwas.txt\")"
      ],
      "metadata": {
        "colab": {
          "base_uri": "https://localhost:8080/"
        },
        "id": "WVHYXfEVCwRd",
        "outputId": "a7cdd221-461e-4398-c3b3-4baa59bc3945"
      },
      "execution_count": 6,
      "outputs": [
        {
          "output_type": "stream",
          "name": "stdout",
          "text": [
            "Rows: 487213 Columns: 38\n",
            "── Column specification ────────────────────────────────────────────────────────\n",
            "Delimiter: \"\\t\"\n",
            "chr  (27): FIRST AUTHOR, JOURNAL, LINK, STUDY, DISEASE/TRAIT, INITIAL SAMPLE...\n",
            "dbl   (9): PUBMEDID, UPSTREAM_GENE_DISTANCE, DOWNSTREAM_GENE_DISTANCE, MERGE...\n",
            "date  (2): DATE ADDED TO CATALOG, DATE\n",
            "\n",
            "ℹ Use `spec()` to retrieve the full column specification for this data.\n",
            "ℹ Specify the column types or set `show_col_types = FALSE` to quiet this message.\n"
          ]
        }
      ]
    },
    {
      "cell_type": "code",
      "source": [
        "%%R\n",
        "summary(gwas)"
      ],
      "metadata": {
        "colab": {
          "base_uri": "https://localhost:8080/"
        },
        "id": "XflKNmxfGdk9",
        "outputId": "4b233e4f-8bed-4396-e76a-d1c3e6eef6ef"
      },
      "execution_count": 7,
      "outputs": [
        {
          "output_type": "stream",
          "name": "stdout",
          "text": [
            " DATE ADDED TO CATALOG    PUBMEDID        FIRST AUTHOR      \n",
            " Min.   :2008-06-10    Min.   :15761122   Length:487213     \n",
            " 1st Qu.:2019-02-21    1st Qu.:30289880   Class :character  \n",
            " Median :2021-02-03    Median :32888494   Mode  :character  \n",
            " Mean   :2020-07-09    Mean   :32168327                     \n",
            " 3rd Qu.:2022-04-27    3rd Qu.:34610981                     \n",
            " Max.   :2023-02-09    Max.   :36658081                     \n",
            "                                                            \n",
            "      DATE              JOURNAL              LINK              STUDY          \n",
            " Min.   :2005-03-10   Length:487213      Length:487213      Length:487213     \n",
            " 1st Qu.:2018-10-03   Class :character   Class :character   Class :character  \n",
            " Median :2020-09-01   Mode  :character   Mode  :character   Mode  :character  \n",
            " Mean   :2019-12-29                                                           \n",
            " 3rd Qu.:2021-09-30                                                           \n",
            " Max.   :2023-01-19                                                           \n",
            "                                                                              \n",
            " DISEASE/TRAIT      INITIAL SAMPLE SIZE REPLICATION SAMPLE SIZE\n",
            " Length:487213      Length:487213       Length:487213          \n",
            " Class :character   Class :character    Class :character       \n",
            " Mode  :character   Mode  :character    Mode  :character       \n",
            "                                                               \n",
            "                                                               \n",
            "                                                               \n",
            "                                                               \n",
            "    REGION             CHR_ID            CHR_POS          REPORTED GENE(S)  \n",
            " Length:487213      Length:487213      Length:487213      Length:487213     \n",
            " Class :character   Class :character   Class :character   Class :character  \n",
            " Mode  :character   Mode  :character   Mode  :character   Mode  :character  \n",
            "                                                                            \n",
            "                                                                            \n",
            "                                                                            \n",
            "                                                                            \n",
            " MAPPED_GENE        UPSTREAM_GENE_ID   DOWNSTREAM_GENE_ID SNP_GENE_IDS      \n",
            " Length:487213      Length:487213      Length:487213      Length:487213     \n",
            " Class :character   Class :character   Class :character   Class :character  \n",
            " Mode  :character   Mode  :character   Mode  :character   Mode  :character  \n",
            "                                                                            \n",
            "                                                                            \n",
            "                                                                            \n",
            "                                                                            \n",
            " UPSTREAM_GENE_DISTANCE DOWNSTREAM_GENE_DISTANCE STRONGEST SNP-RISK ALLELE\n",
            " Min.   :        1      Min.   :        1        Length:487213            \n",
            " 1st Qu.:     7916      1st Qu.:     8193        Class :character         \n",
            " Median :    25869      Median :    26738        Mode  :character         \n",
            " Mean   :   474608      Mean   :   380986                                 \n",
            " 3rd Qu.:    67171      3rd Qu.:    69120                                 \n",
            " Max.   :234104882      Max.   :226527844                                 \n",
            " NA's   :348034         NA's   :347219                                    \n",
            "     SNPS               MERGED        SNP_ID_CURRENT        CONTEXT         \n",
            " Length:487213      Min.   :0.00000   Min.   :8.000e+00   Length:487213     \n",
            " Class :character   1st Qu.:0.00000   1st Qu.:2.519e+06   Class :character  \n",
            " Mode  :character   Median :0.00000   Median :9.329e+06   Mode  :character  \n",
            "                    Mean   :0.01173   Mean   :3.695e+07                     \n",
            "                    3rd Qu.:0.00000   3rd Qu.:3.487e+07                     \n",
            "                    Max.   :1.00000   Max.   :1.831e+09                     \n",
            "                    NA's   :15        NA's   :24943                         \n",
            "   INTERGENIC    RISK ALLELE FREQUENCY    P-VALUE           PVALUE_MLOG       \n",
            " Min.   :0.000   Length:487213         Min.   :0.000e+00   Min.   :  -12.778  \n",
            " 1st Qu.:0.000   Class :character      1st Qu.:0.000e+00   1st Qu.:    7.523  \n",
            " Median :0.000   Mode  :character      Median :0.000e+00   Median :   10.000  \n",
            " Mean   :0.376                         Mean   :1.231e+07   Mean   :   19.605  \n",
            " 3rd Qu.:1.000                         3rd Qu.:0.000e+00   3rd Qu.:   15.699  \n",
            " Max.   :1.000                         Max.   :6.000e+12   Max.   :28538.699  \n",
            " NA's   :5244                                                                 \n",
            " P-VALUE (TEXT)       OR or BETA         95% CI (TEXT)     \n",
            " Length:487213      Min.   :-5.000e+00   Length:487213     \n",
            " Class :character   1st Qu.: 0.000e+00   Class :character  \n",
            " Mode  :character   Median : 0.000e+00   Mode  :character  \n",
            "                    Mean   : 3.373e+08                     \n",
            "                    3rd Qu.: 0.000e+00                     \n",
            "                    Max.   : 1.400e+14                     \n",
            "                    NA's   :72190                          \n",
            " PLATFORM [SNPS PASSING QC]     CNV            MAPPED_TRAIT      \n",
            " Length:487213              Length:487213      Length:487213     \n",
            " Class :character           Class :character   Class :character  \n",
            " Mode  :character           Mode  :character   Mode  :character  \n",
            "                                                                 \n",
            "                                                                 \n",
            "                                                                 \n",
            "                                                                 \n",
            " MAPPED_TRAIT_URI   STUDY ACCESSION    GENOTYPING TECHNOLOGY\n",
            " Length:487213      Length:487213      Length:487213        \n",
            " Class :character   Class :character   Class :character     \n",
            " Mode  :character   Mode  :character   Mode  :character     \n",
            "                                                            \n",
            "                                                            \n",
            "                                                            \n",
            "                                                            \n"
          ]
        }
      ]
    },
    {
      "cell_type": "markdown",
      "source": [
        "Remove Jones et al study from GWAS data frame"
      ],
      "metadata": {
        "id": "ONhdrEA6OL0q"
      }
    },
    {
      "cell_type": "code",
      "source": [
        "%%R\n",
        "# code to drop \n",
        "gwas <- gwas %>% filter(PUBMEDID != 30696823)"
      ],
      "metadata": {
        "id": "lW-P_AGFOhrr"
      },
      "execution_count": 26,
      "outputs": []
    },
    {
      "cell_type": "markdown",
      "source": [
        "import chronotype IDs"
      ],
      "metadata": {
        "id": "tM38FesuP318"
      }
    },
    {
      "cell_type": "code",
      "source": [
        "%%R\n",
        "# Create example query data frame\n",
        "query_df <- read_tsv(\"GWAS_chronotype_rsIDs.txt\", col_names = FALSE, skip = 0)"
      ],
      "metadata": {
        "colab": {
          "base_uri": "https://localhost:8080/"
        },
        "id": "yhDXr1giP51v",
        "outputId": "0325611c-c40a-499b-c347-95b5216f618e"
      },
      "execution_count": 36,
      "outputs": [
        {
          "output_type": "stream",
          "name": "stdout",
          "text": [
            "Rows: 351 Columns: 1\n",
            "── Column specification ────────────────────────────────────────────────────────\n",
            "Delimiter: \"\\t\"\n",
            "chr (1): X1\n",
            "\n",
            "ℹ Use `spec()` to retrieve the full column specification for this data.\n",
            "ℹ Specify the column types or set `show_col_types = FALSE` to quiet this message.\n"
          ]
        }
      ]
    },
    {
      "cell_type": "code",
      "source": [
        "%R query_df"
      ],
      "metadata": {
        "colab": {
          "base_uri": "https://localhost:8080/",
          "height": 423
        },
        "id": "5X28a4LzP-xc",
        "outputId": "35e91fcf-4c1d-464f-d196-be6ec61e75ff"
      },
      "execution_count": 37,
      "outputs": [
        {
          "output_type": "execute_result",
          "data": {
            "text/plain": [
              "             X1\n",
              "1      rs909757\n",
              "2    rs61773390\n",
              "3    rs12065331\n",
              "4    rs17448682\n",
              "5    rs10917513\n",
              "..          ...\n",
              "347   rs9611597\n",
              "348   rs6007594\n",
              "349   rs3747463\n",
              "350    rs213462\n",
              "351   rs7060620\n",
              "\n",
              "[351 rows x 1 columns]"
            ],
            "text/html": [
              "\n",
              "  <div id=\"df-fa9e022a-d9f8-40a3-ad07-9758392e0014\">\n",
              "    <div class=\"colab-df-container\">\n",
              "      <div>\n",
              "<style scoped>\n",
              "    .dataframe tbody tr th:only-of-type {\n",
              "        vertical-align: middle;\n",
              "    }\n",
              "\n",
              "    .dataframe tbody tr th {\n",
              "        vertical-align: top;\n",
              "    }\n",
              "\n",
              "    .dataframe thead th {\n",
              "        text-align: right;\n",
              "    }\n",
              "</style>\n",
              "<table border=\"1\" class=\"dataframe\">\n",
              "  <thead>\n",
              "    <tr style=\"text-align: right;\">\n",
              "      <th></th>\n",
              "      <th>X1</th>\n",
              "    </tr>\n",
              "  </thead>\n",
              "  <tbody>\n",
              "    <tr>\n",
              "      <th>1</th>\n",
              "      <td>rs909757</td>\n",
              "    </tr>\n",
              "    <tr>\n",
              "      <th>2</th>\n",
              "      <td>rs61773390</td>\n",
              "    </tr>\n",
              "    <tr>\n",
              "      <th>3</th>\n",
              "      <td>rs12065331</td>\n",
              "    </tr>\n",
              "    <tr>\n",
              "      <th>4</th>\n",
              "      <td>rs17448682</td>\n",
              "    </tr>\n",
              "    <tr>\n",
              "      <th>5</th>\n",
              "      <td>rs10917513</td>\n",
              "    </tr>\n",
              "    <tr>\n",
              "      <th>...</th>\n",
              "      <td>...</td>\n",
              "    </tr>\n",
              "    <tr>\n",
              "      <th>347</th>\n",
              "      <td>rs9611597</td>\n",
              "    </tr>\n",
              "    <tr>\n",
              "      <th>348</th>\n",
              "      <td>rs6007594</td>\n",
              "    </tr>\n",
              "    <tr>\n",
              "      <th>349</th>\n",
              "      <td>rs3747463</td>\n",
              "    </tr>\n",
              "    <tr>\n",
              "      <th>350</th>\n",
              "      <td>rs213462</td>\n",
              "    </tr>\n",
              "    <tr>\n",
              "      <th>351</th>\n",
              "      <td>rs7060620</td>\n",
              "    </tr>\n",
              "  </tbody>\n",
              "</table>\n",
              "<p>351 rows × 1 columns</p>\n",
              "</div>\n",
              "      <button class=\"colab-df-convert\" onclick=\"convertToInteractive('df-fa9e022a-d9f8-40a3-ad07-9758392e0014')\"\n",
              "              title=\"Convert this dataframe to an interactive table.\"\n",
              "              style=\"display:none;\">\n",
              "        \n",
              "  <svg xmlns=\"http://www.w3.org/2000/svg\" height=\"24px\"viewBox=\"0 0 24 24\"\n",
              "       width=\"24px\">\n",
              "    <path d=\"M0 0h24v24H0V0z\" fill=\"none\"/>\n",
              "    <path d=\"M18.56 5.44l.94 2.06.94-2.06 2.06-.94-2.06-.94-.94-2.06-.94 2.06-2.06.94zm-11 1L8.5 8.5l.94-2.06 2.06-.94-2.06-.94L8.5 2.5l-.94 2.06-2.06.94zm10 10l.94 2.06.94-2.06 2.06-.94-2.06-.94-.94-2.06-.94 2.06-2.06.94z\"/><path d=\"M17.41 7.96l-1.37-1.37c-.4-.4-.92-.59-1.43-.59-.52 0-1.04.2-1.43.59L10.3 9.45l-7.72 7.72c-.78.78-.78 2.05 0 2.83L4 21.41c.39.39.9.59 1.41.59.51 0 1.02-.2 1.41-.59l7.78-7.78 2.81-2.81c.8-.78.8-2.07 0-2.86zM5.41 20L4 18.59l7.72-7.72 1.47 1.35L5.41 20z\"/>\n",
              "  </svg>\n",
              "      </button>\n",
              "      \n",
              "  <style>\n",
              "    .colab-df-container {\n",
              "      display:flex;\n",
              "      flex-wrap:wrap;\n",
              "      gap: 12px;\n",
              "    }\n",
              "\n",
              "    .colab-df-convert {\n",
              "      background-color: #E8F0FE;\n",
              "      border: none;\n",
              "      border-radius: 50%;\n",
              "      cursor: pointer;\n",
              "      display: none;\n",
              "      fill: #1967D2;\n",
              "      height: 32px;\n",
              "      padding: 0 0 0 0;\n",
              "      width: 32px;\n",
              "    }\n",
              "\n",
              "    .colab-df-convert:hover {\n",
              "      background-color: #E2EBFA;\n",
              "      box-shadow: 0px 1px 2px rgba(60, 64, 67, 0.3), 0px 1px 3px 1px rgba(60, 64, 67, 0.15);\n",
              "      fill: #174EA6;\n",
              "    }\n",
              "\n",
              "    [theme=dark] .colab-df-convert {\n",
              "      background-color: #3B4455;\n",
              "      fill: #D2E3FC;\n",
              "    }\n",
              "\n",
              "    [theme=dark] .colab-df-convert:hover {\n",
              "      background-color: #434B5C;\n",
              "      box-shadow: 0px 1px 3px 1px rgba(0, 0, 0, 0.15);\n",
              "      filter: drop-shadow(0px 1px 2px rgba(0, 0, 0, 0.3));\n",
              "      fill: #FFFFFF;\n",
              "    }\n",
              "  </style>\n",
              "\n",
              "      <script>\n",
              "        const buttonEl =\n",
              "          document.querySelector('#df-fa9e022a-d9f8-40a3-ad07-9758392e0014 button.colab-df-convert');\n",
              "        buttonEl.style.display =\n",
              "          google.colab.kernel.accessAllowed ? 'block' : 'none';\n",
              "\n",
              "        async function convertToInteractive(key) {\n",
              "          const element = document.querySelector('#df-fa9e022a-d9f8-40a3-ad07-9758392e0014');\n",
              "          const dataTable =\n",
              "            await google.colab.kernel.invokeFunction('convertToInteractive',\n",
              "                                                     [key], {});\n",
              "          if (!dataTable) return;\n",
              "\n",
              "          const docLinkHtml = 'Like what you see? Visit the ' +\n",
              "            '<a target=\"_blank\" href=https://colab.research.google.com/notebooks/data_table.ipynb>data table notebook</a>'\n",
              "            + ' to learn more about interactive tables.';\n",
              "          element.innerHTML = '';\n",
              "          dataTable['output_type'] = 'display_data';\n",
              "          await google.colab.output.renderOutput(dataTable, element);\n",
              "          const docLink = document.createElement('div');\n",
              "          docLink.innerHTML = docLinkHtml;\n",
              "          element.appendChild(docLink);\n",
              "        }\n",
              "      </script>\n",
              "    </div>\n",
              "  </div>\n",
              "  "
            ]
          },
          "metadata": {},
          "execution_count": 37
        }
      ]
    },
    {
      "cell_type": "code",
      "source": [
        "%%R\n",
        "library(dplyr)\n",
        "library(stringr)\n",
        "\n",
        "\n",
        "# Filter tibble based on whether it contains any of the rows in query data frame\n",
        "filtered_tibble <- gwas %>%\n",
        "  filter(sapply(str_extract_all(SNPS, \"[a-zA-Z0-9]+\"), \n",
        "                function(x) any(x %in% query_df$X1)))\n",
        "\n",
        "# Print filtered tibble\n",
        "# print(filtered_tibble)\n"
      ],
      "metadata": {
        "id": "i106l3KXH9eu"
      },
      "execution_count": 38,
      "outputs": []
    },
    {
      "cell_type": "markdown",
      "source": [
        "Search through gwas catalogue and pull out variant"
      ],
      "metadata": {
        "id": "4OL6EQ6xOZjS"
      }
    },
    {
      "cell_type": "code",
      "source": [
        "%%R\n",
        "library(dplyr)\n",
        "library(stringr)\n",
        "\n",
        "# Create example query data frame\n",
        "query_df <- \"rs909757\"\n",
        "\n",
        "# Filter tibble based on whether it contains any of the rows in query data frame\n",
        "filtered_tibble <- gwas %>%\n",
        "  filter(sapply(str_extract_all(SNPS, \"[a-zA-Z0-9]+\"), \n",
        "                function(x) any(x %in% query_df)))\n",
        "\n",
        "# Print filtered tibble\n",
        "# print(filtered_tibble)\n"
      ],
      "metadata": {
        "id": "3Z7W15J-Nu8y"
      },
      "execution_count": 27,
      "outputs": []
    },
    {
      "cell_type": "code",
      "source": [
        "%%R\n",
        "filtered_tibble$PUBMEDID\n"
      ],
      "metadata": {
        "id": "giNtbbC1JdZU",
        "colab": {
          "base_uri": "https://localhost:8080/"
        },
        "outputId": "6ad7a3fc-2f8b-43a5-ce55-a781480e5721"
      },
      "execution_count": 39,
      "outputs": [
        {
          "output_type": "stream",
          "name": "stdout",
          "text": [
            "  [1] 29029846 29899525 26961502 30617275 30595370 30595370 30679032 30239722\n",
            "  [9] 30679032 30679032 30275891 30679032 30679032 30510241 29403010 30239722\n",
            " [17] 30487518 30595370 31453325 31453325 31453325 31453325 31453325 31453325\n",
            " [25] 30643258 31519223 31326317 30593698 30593698 30593698 30593698 30593698\n",
            " [33] 30593698 31263887 30595370 30072576 32393786 31097437 30643258 30593698\n",
            " [41] 30643258 30593698 29381148 32332799 30573740 32317632 33402679 33402679\n",
            " [49] 32317632 31840077 30072576 32157176 32157176 33075057 33075057 32352494\n",
            " [57] 32352494 33082346 31740837 31900758 30595370 32889700 32889700 27089181\n",
            " [65] 27992416 27992416 27992416 27992416 27488534 27494321 27494321 27494321\n",
            " [73] 27494321 26634245 26835600 26835600 26835600 26835600 26604143 26634245\n",
            " [81] 21873549 27863252 25201988 24952745 25006744 25006744 24189344 23563607\n",
            " [89] 17634447 19151714 19151714 19151714 23704328 23563609 23636237 23251661\n",
            " [97] 32066663 32154731 30297969 30239722 30239722 30595370 30297969 32203549\n",
            "[105] 32066663 32203549 33462482 31701892 28552196 28552196 30804566 30804565\n",
            "[113] 30804565 32296059 30804565 30804565 31666681 31669095 30598549 31798171\n",
            "[121] 29942085 29988085 29942085 29844566 32888494 32888494 32888494 35078996\n",
            "[129] 33972514 30038396 34128465 30038396 34446935 34002096 30038396 34021172\n",
            "[137] 34855049 30038396 30038396 35213538 35213538 35213538 35213538 34743297\n",
            "[145] 35915169 34594039 35213538 35585065 35213538 35915169 35915169 35538205\n",
            "[153] 35213538 35213538 35710981 35213538 35213538 34594039 34594039 35213538\n",
            "[161] 34594039 35831902 35831902 34594039 35361970 35835914 34910505 34594039\n",
            "[169] 34887591 34594039 34594039 34910505 32541925 31358974 30595370 33339817\n",
            "[177] 30846698 32888494 32042192 29844566 32888494 32888494 32888494 32970232\n",
            "[185] 32970232 29691431 33339817 32888494 30038396 30275531 30867560 30038396\n",
            "[193] 30595370 30643251 30643251 30940813 30038396 30643251 30643251 31015401\n",
            "[201] 30643251 28604731 28604731 28604731 28604731 28604731 28604731 28604730\n",
            "[209] 28604730 28604730 28604730 26955885 26955885 27863252 26818947 29083406\n",
            "[217] 27863252 27702941 27702941 27702941 35213538 35213538 35213538 35023977\n",
            "[225] 32193382 35347128 35835914 34887591 34321204 35213538 35213538 35213538\n",
            "[233] 35213538 34887591 36329257 32193382 32193382 35613103 34887591 35164939\n",
            "[241] 35835914 31669095 31217584 32606422 33037222 33037222 32541925 32541925\n",
            "[249] 32541925 31046077 32888494 31046077 31046077 30804565 30804565 30804565\n",
            "[257] 30804565 30804565 30804565 30804565 30804565 30804565 30804565 30804565\n",
            "[265] 30804565 30804565 30804565 30804565 30804565 30804565 30804565 30804565\n",
            "[273] 30804565 30804565 30804565 30804565 30804565 30804565 30804565 30804565\n",
            "[281] 30804565 30804565 30804565 30804565 30804565 30804565 30804565 30804565\n",
            "[289] 30804565 30804565 30804565 30804565 30804565 30804565 30804565 30804565\n",
            "[297] 30804565 30804565 30804565 30804565 30804565 30804565 30804565 30804565\n",
            "[305] 30804565 30804565 30804565 30804565 30804565 30804565 30804565 30804565\n",
            "[313] 30804565 30531941 32376654 27532455 30804566 30718926 32376654 32376654\n",
            "[321] 33479212 31669095 32541925 31217584 26407342 32376654 35213538 35213538\n",
            "[329] 33414548 35668104 35668104 30038396 35213538 34910505 35051171 35051171\n",
            "[337] 35051171 35505052 33462484 30595370 30595370 30595370 30595370 30595370\n",
            "[345] 30595370 30595370 30595370 30595370 30595370 30595370 30595370 30595370\n",
            "[353] 30595370 30038396 30595370 30595370 30595370 30595370 30595370 30595370\n",
            "[361] 35043453 35043453 35043453 35043453 35043453 35043453 35043453 30595370\n",
            "[369] 30595370 30595370 30595370 30595370 30595370 30595370 30595370 30595370\n",
            "[377] 30595370 30595370 30595370 30595370 30595370 30595370 30038396 30595370\n",
            "[385] 30595370 30595370 30595370 30595370 30595370 30595370 30595370 30595370\n",
            "[393] 33462484 34560273 34560273 30595370 30595370 30595370 30595370 30595370\n",
            "[401] 30595370 30595370 34634379 35078996 33972514 34599228 34599228 34187846\n",
            "[409] 34887591 36329257 36329257 36329257 36329257 35213538 35396580 35213538\n",
            "[417] 34887591 36324656 31835028 33568662 33568662 33230300 30514930 33667223\n",
            "[425] 30072576 32499647 32450446 32451486 33239696 33287642 33287642 31089142\n",
            "[433] 29483656 30388399 30595370 31015401 31015401 30120083 33830181 34836030\n",
            "[441] 30595370 32242144 30595370 33491310 33144568 34096894 33239738 30595370\n",
            "[449] 30595370 30038396 33686288 32888494 30038396 32888494 35361970 35213538\n",
            "[457] 34887591 32193382 35347128 35213538 35213538 35347128 35347128 35347128\n",
            "[465] 35347128 34594039 35213538 34887591 35396580 35347128 36539618 35050183\n",
            "[473] 36376304 36376304 35835914 35835914 36376304 36477530 35835914 35835914\n",
            "[481] 36376304 36477530 35361970 36224396 34021172 35361970 35884923 34594039\n",
            "[489] 36376304 36376304 35050183 36376304 35884923 36333282 36376304 35773277\n",
            "[497] 34594039 35050183 36376304 35835914 36477530 36477530 36477530 36477530\n",
            "[505] 36376304 36477530 36477530 36477530 36477530 36477530 35361970 36224396\n",
            "[513] 35361970 36224396 35361970 36224396 36224396 36224396\n"
          ]
        }
      ]
    },
    {
      "cell_type": "code",
      "source": [
        "%%R\n",
        "table(filtered_tibble$PUBMEDID)\n",
        "df <- table(filtered_tibble$`DISEASE/TRAIT`)"
      ],
      "metadata": {
        "id": "u_lP9dlEQx_E"
      },
      "execution_count": 57,
      "outputs": []
    },
    {
      "cell_type": "code",
      "source": [
        "%%R \n",
        "df <- as.data.frame(df)"
      ],
      "metadata": {
        "id": "Hbmp6OldSItP"
      },
      "execution_count": 58,
      "outputs": []
    },
    {
      "cell_type": "code",
      "source": [
        "%%R\n",
        "colnames(df)"
      ],
      "metadata": {
        "colab": {
          "base_uri": "https://localhost:8080/"
        },
        "id": "feztzrCoSX4K",
        "outputId": "0942e8f1-7ca7-480b-f0f7-e3e3f13420bc"
      },
      "execution_count": 59,
      "outputs": [
        {
          "output_type": "stream",
          "name": "stdout",
          "text": [
            "[1] \"Var1\" \"Freq\"\n"
          ]
        }
      ]
    },
    {
      "cell_type": "code",
      "source": [
        "%%R\n",
        "library(ggplot2)\n",
        "\n",
        "# Sort data frame in descending order by count\n",
        "df <- df[order(-df$Freq),]\n",
        "\n",
        "# Create bar graph with columns in height order\n",
        "ggplot(df, aes(x = reorder(Var1, -Freq), y = Freq)) +\n",
        "  geom_bar(stat = \"identity\", fill = \"steelblue\") +\n",
        "  labs(title = \"Bar Graph with Columns in Height Order\", x = \"Category\", y = \"Count\") +\n",
        "  theme_minimal()\n"
      ],
      "metadata": {
        "colab": {
          "base_uri": "https://localhost:8080/",
          "height": 497
        },
        "id": "6XZpNjH_R8cR",
        "outputId": "796b44c8-4c51-460e-cf7e-c0160c2ea389"
      },
      "execution_count": 54,
      "outputs": [
        {
          "output_type": "display_data",
          "data": {
            "image/png": "[encoded data removed]"
          },
          "metadata": {}
        }
      ]
    },
    {
      "cell_type": "code",
      "source": [
        "%like%"
      ],
      "metadata": {
        "id": "jfudaArQKogy"
      },
      "execution_count": null,
      "outputs": []
    },
    {
      "cell_type": "code",
      "source": [
        "%%R\n",
        "library(ggplot2)\n",
        "\n",
        "df <- df %>% filter(Freq > 5)\n",
        "\n",
        "# Sort data frame in descending order by count\n",
        "df <- df[order(-df$Freq),]\n",
        "\n",
        "# Create bar graph with columns in height order\n",
        "ggplot(df, aes(x = reorder(Var1, -Freq), y = Freq)) +\n",
        "  geom_bar(stat = \"identity\", fill = \"steelblue\") +\n",
        "  labs(title = \"Bar Graph with Columns in Height Order\", x = \"Category\", y = \"Count\") +\n",
        "  theme_minimal() +\n",
        "  theme(axis.text.x = element_text(angle = 45, hjust = 1))\n"
      ],
      "metadata": {
        "colab": {
          "base_uri": "https://localhost:8080/",
          "height": 497
        },
        "outputId": "893891d7-ea2f-4aa2-881b-24980f369d51",
        "id": "fNbgIDJZTxFf"
      },
      "execution_count": 61,
      "outputs": [
        {
          "output_type": "display_data",
          "data": {
            "image/png": "[encoded data removed]"
          },
          "metadata": {}
        }
      ]
    }
  ]
}